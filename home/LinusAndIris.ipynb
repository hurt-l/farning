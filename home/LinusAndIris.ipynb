{
 "cells": [
  {
   "cell_type": "code",
   "execution_count": 15,
   "id": "b740bc03",
   "metadata": {},
   "outputs": [],
   "source": [
    "# Bibliothek importieren\n",
    "import csv\n",
    "import random"
   ]
  },
  {
   "cell_type": "code",
   "execution_count": 9,
   "id": "8a151edb",
   "metadata": {},
   "outputs": [],
   "source": [
    "# iris Daten einlesen\n",
    "with open(\"iris.csv\")as f:\n",
    "    file_read = csv.reader(f)\n",
    "    \n",
    "    iris_array = list(file_read)\n",
    "\n",
    "    # print(iris_array)"
   ]
  },
  {
   "cell_type": "code",
   "execution_count": 24,
   "id": "2ab0d64e",
   "metadata": {},
   "outputs": [],
   "source": [
    "daten = iris_array\n",
    "#print(daten)"
   ]
  },
  {
   "cell_type": "code",
   "execution_count": null,
   "id": "b743a75e",
   "metadata": {},
   "outputs": [],
   "source": [
    "# Alle Zahlen in Strings zu floats konvertieren\n",
    "for i in range(len(daten)): # for über alle Zeilen\n",
    "    for j in range(len(daten[i]) - 1): # for über alle Zeilen\n",
    "        daten[i][j] = float(daten[i][j])\n",
    "\n",
    "print(daten)"
   ]
  },
  {
   "cell_type": "code",
   "execution_count": 17,
   "id": "29362f9c",
   "metadata": {},
   "outputs": [],
   "source": [
    "# Datensatz mischen\n",
    "random.shuffle(daten)\n",
    "# print(daten)"
   ]
  },
  {
   "cell_type": "code",
   "execution_count": 21,
   "id": "d563cbae",
   "metadata": {},
   "outputs": [
    {
     "name": "stdout",
     "output_type": "stream",
     "text": [
      "151\n",
      "120\n"
     ]
    }
   ],
   "source": [
    "# Datensatz in Trainingsdaten und -testdaten aufteilen\n",
    "trainingsdaten = daten[:int(len(daten)*0.8)]\n",
    "print(len(daten))\n",
    "print(len(trainingsdaten))"
   ]
  },
  {
   "cell_type": "code",
   "execution_count": 22,
   "id": "f60deb10",
   "metadata": {},
   "outputs": [
    {
     "name": "stdout",
     "output_type": "stream",
     "text": [
      "31\n"
     ]
    }
   ],
   "source": [
    "testdaten = daten[int(len(daten)*0.8):]\n",
    "print(len(testdaten))"
   ]
  },
  {
   "cell_type": "code",
   "execution_count": null,
   "id": "c6dda56e",
   "metadata": {},
   "outputs": [],
   "source": []
  }
 ],
 "metadata": {
  "kernelspec": {
   "display_name": "Python 3",
   "language": "python",
   "name": "python3"
  },
  "language_info": {
   "codemirror_mode": {
    "name": "ipython",
    "version": 3
   },
   "file_extension": ".py",
   "mimetype": "text/x-python",
   "name": "python",
   "nbconvert_exporter": "python",
   "pygments_lexer": "ipython3",
   "version": "3.8.10"
  }
 },
 "nbformat": 4,
 "nbformat_minor": 5
}
